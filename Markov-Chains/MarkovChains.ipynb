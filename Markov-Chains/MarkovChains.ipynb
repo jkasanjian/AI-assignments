{
 "cells": [
  {
   "cell_type": "markdown",
   "metadata": {
    "colab_type": "text",
    "id": "20BLTogZh9XW"
   },
   "source": [
    "Assignment 8\n",
    "\n",
    "Jonathan Bazan,\n",
    "Daniel Flores,\n",
    "Joshua Kasanjian"
   ]
  },
  {
   "cell_type": "code",
   "execution_count": 2,
   "metadata": {
    "colab": {},
    "colab_type": "code",
    "id": "v7gCEvqbiEZQ"
   },
   "outputs": [],
   "source": [
    "def part_a():\n",
    "  print('Part A. The sampling probabilities')\n",
    "  print('P(C|-s,r) = <%0.3f, %0.3f>' % (0.878, 0.122) )\n",
    "  print('P(C|-s,-r) = <%0.3f, %0.3f>' % (0.31, 0.69) )\n",
    "  print('P(R|c,-s,w) = <%0.3f, %0.3f>' % (1.0, 0.0) ) \n",
    "  print('P(R|-c,-s,w) = <%0.3f, %0.3f>' % (1.0, 0.0) )\n",
    "\n",
    "\n",
    "def part_b():\n",
    "  print('\\n\\nPart B. The transition probability matrix')\n",
    "  matrix = [\n",
    "      [0.939, 0, 0.061, 0], \n",
    "      [0.5, 0.155, 0, 0.345],\n",
    "      [0.439, 0, 0.561, 0],\n",
    "      [0, 0.155, 0.5, 0.345]\n",
    "  ]\n",
    "\n",
    "  print('\\tS1\\tS2\\tS3\\tS4')\n",
    "  state = ['S1', 'S2', 'S3', 'S4']\n",
    "  i = 0\n",
    "  for row in matrix:\n",
    "    print(state[i], '\\t', end='')\n",
    "    for e in row:\n",
    "      print(e, end='\\t')\n",
    "    print('\\n',end='')\n",
    "    i += 1\n",
    "    \n"
   ]
  },
  {
   "cell_type": "code",
   "execution_count": 3,
   "metadata": {
    "colab": {
     "base_uri": "https://localhost:8080/",
     "height": 289
    },
    "colab_type": "code",
    "id": "LxlWWGlWhrHF",
    "outputId": "75d9b5a1-2591-4a68-ade3-80dd0b46dfd6"
   },
   "outputs": [
    {
     "name": "stdout",
     "output_type": "stream",
     "text": [
      "Part A. The sampling probabilities\n",
      "P(C|-s,r) = <0.878, 0.122>\n",
      "P(C|-s,-r) = <0.310, 0.690>\n",
      "P(R|c,-s,w) = <1.000, 0.000>\n",
      "P(R|-c,-s,w) = <1.000, 0.000>\n",
      "\n",
      "\n",
      "Part B. The transition probability matrix\n",
      "\tS1\tS2\tS3\tS4\n",
      "S1 \t0.939\t0\t0.061\t0\t\n",
      "S2 \t0.5\t0.155\t0\t0.345\t\n",
      "S3 \t0.439\t0\t0.561\t0\t\n",
      "S4 \t0\t0.155\t0.5\t0.345\t\n",
      "\n",
      "Part C. Query using Gibbs MCMC sampling\n",
      "P(C|-s,w) = <0.878, 0.122>)\n"
     ]
    }
   ],
   "source": [
    "import random\n",
    "\n",
    "\n",
    "def get_next_state(current_state):\n",
    "  state_mat = {\n",
    "     'S1': [0.939, 0, 0.061, 0], \n",
    "     'S2': [0.5, .155, 0, 0.345],\n",
    "     'S3': [0.439, 0, 0.561, 0],\n",
    "     'S4': [0, 0.155, 0.5, 0.345] \n",
    "     }\n",
    "\n",
    "  prob = state_mat[current_state]\n",
    "  r = 1 - random.random() # ensures r is (0.0, 1.0]\n",
    "\n",
    "  if r <= prob[0]:\n",
    "    return 'S1'\n",
    "  elif r <= sum(prob[0:2]):\n",
    "    return 'S2'\n",
    "  elif r <= sum(prob[0:3]):\n",
    "    return 'S3'\n",
    "  else:\n",
    "    return 'S4'\n",
    "\n",
    "\n",
    "def part_c():\n",
    "  state_count = {'S1':0, 'S2':0, 'S3':0, 'S4':0}\n",
    "\n",
    "  n = 1000000\n",
    "  prev_state = 'S' + str(random.randint(1, 4))\n",
    "\n",
    "  for i in range(n):\n",
    "    curr_state = get_next_state(prev_state)\n",
    "    state_count[curr_state] += 1\n",
    "    prev_state = curr_state\n",
    "\n",
    "  p_c = (state_count['S1'] + state_count['S2']) / n\n",
    "  p_not_c = (state_count['S3'] + state_count['S4']) / n\n",
    "\n",
    "  print('\\nPart C. Query using Gibbs MCMC sampling')\n",
    "  print('P(C|-s,w) = <%0.3f, %0.3f>)' %(p_c, p_not_c))\n",
    "\n",
    "\n",
    "\n",
    "def main():\n",
    "  part_a()\n",
    "  part_b()\n",
    "  part_c()\n",
    "\n",
    "\n",
    "\n",
    "main()\n",
    "\n",
    "\n"
   ]
  },
  {
   "cell_type": "markdown",
   "metadata": {
    "colab_type": "text",
    "id": "ROjWBGQHoQF3"
   },
   "source": []
  }
 ],
 "metadata": {
  "colab": {
   "collapsed_sections": [],
   "name": "Assignment_8.ipynb",
   "provenance": []
  },
  "kernelspec": {
   "display_name": "Python 3",
   "language": "python",
   "name": "python3"
  },
  "language_info": {
   "codemirror_mode": {
    "name": "ipython",
    "version": 3
   },
   "file_extension": ".py",
   "mimetype": "text/x-python",
   "name": "python",
   "nbconvert_exporter": "python",
   "pygments_lexer": "ipython3",
   "version": "3.7.6"
  }
 },
 "nbformat": 4,
 "nbformat_minor": 1
}
