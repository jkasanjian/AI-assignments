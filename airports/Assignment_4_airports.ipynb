{
 "cells": [
  {
   "cell_type": "code",
   "execution_count": 11,
   "metadata": {},
   "outputs": [
    {
     "name": "stdout",
     "output_type": "stream",
     "text": [
      "104.7726421574661\n",
      "Current Airports: [(0.8006978353418621, 0.8441318644472675), (0.5172579703372908, 0.18785638765442425), (0.009417170122032026, 0.4365050611212684)]\n",
      "Gradient of city 1 is: 7.465016553292115 5.9986218370081374\n",
      "Gradient of city 2 is: 11.608736329545998 41.36901630075502\n",
      "Gradient of city is: 39.83579956028437 19.39612756170596\n"
     ]
    }
   ],
   "source": [
    "import random\n",
    "\n",
    "num_city = 100\n",
    "num_air = 3\n",
    "cities = set()\n",
    "airports = []\n",
    "\n",
    "for i in range(num_city):\n",
    "    x = random.random()\n",
    "    y = random.random()\n",
    "    cities.add((x,y))\n",
    "    \n",
    "for i in range(num_air):\n",
    "    x = random.random()\n",
    "    y = random.random()\n",
    "    airports.append((x,y))\n",
    "    \n",
    "def f():\n",
    "    distance = 0\n",
    "    for a in airports:\n",
    "        for c in cities:\n",
    "            distance += ((a[0] - c[0])**2) + ((a[1] - c[1])**2)\n",
    "    return distance\n",
    "\n",
    "print(f())\n",
    "\n",
    "def split_cities():\n",
    "    c1 = set()\n",
    "    c2 = set()\n",
    "    c3 = set()\n",
    "    \n",
    "    for c in cities:\n",
    "        distanceA = ((airports[0][0] - c[0])**2) + ((airports[0][1] - c[1])**2)\n",
    "        distanceB = ((airports[1][0] - c[0])**2) + ((airports[1][1] - c[1])**2)\n",
    "        distanceC = ((airports[2][0] - c[0])**2) + ((airports[2][1] - c[1])**2)\n",
    "        distances = [distanceA, distanceB, distanceC]\n",
    "        if distanceA == min(distances):\n",
    "            c1.add(c)\n",
    "        elif distanceB == min(distances):\n",
    "            c2.add(c)\n",
    "        else:\n",
    "            c3.add(c)\n",
    "    return c1, c2, c3\n",
    "\n",
    "c1, c2, c3 = split_cities()\n",
    "# print(c1)\n",
    "# print(c2)\n",
    "# print(c3)\n",
    "print(\"Current Airports:\",airports)\n",
    "\n",
    "def gradient_element():\n",
    "    gradient = [0,0,0,0,0,0]\n",
    "    for c in c1:\n",
    "        gradient[0] += (airports[0][0] - c[0])\n",
    "        gradient[1] += (airports[0][1] - c[1])\n",
    "    print(\"Gradient of city 1 is:\",2*gradient[0],2*gradient[1])\n",
    "    for c in c2:\n",
    "        gradient[2] += (airports[0][0] - c[0])\n",
    "        gradient[3] += (airports[0][1] - c[1])\n",
    "    print(\"Gradient of city 2 is:\",2*gradient[2],2*gradient[3]) \n",
    "    for c in c3:\n",
    "        gradient[4] += (airports[0][0] - c[0])\n",
    "        gradient[5] += (airports[0][1] - c[1])\n",
    "    print(\"Gradient of city is:\",2*gradient[4],2*gradient[5])\n",
    "    pass\n",
    "\n",
    "gradient_element()\n",
    "\n",
    "#TODO \n",
    "#Create function that itertes function of n epochs, default is 20\n"
   ]
  },
  {
   "cell_type": "code",
   "execution_count": 12,
   "metadata": {
    "scrolled": true
   },
   "outputs": [
    {
     "data": {
      "text/plain": [
       "<module 'matplotlib.pyplot' from '/Library/Frameworks/Python.framework/Versions/3.7/lib/python3.7/site-packages/matplotlib/pyplot.py'>"
      ]
     },
     "execution_count": 12,
     "metadata": {},
     "output_type": "execute_result"
    },
    {
     "data": {
      "image/png": "[encoded data removed]",
      "text/plain": [
       "<Figure size 432x288 with 1 Axes>"
      ]
     },
     "metadata": {
      "needs_background": "light"
     },
     "output_type": "display_data"
    }
   ],
   "source": [
    "import matplotlib.pyplot as plt\n",
    "\n",
    "zip_cities = zip(*cities)\n",
    "plt.scatter(*zip_cities, marker='+',color='b', label='Cities')\n",
    "zip_airs = zip(*airports)\n",
    "plt.scatter(*zip_airs, marker='*', color='r', s=100, label='Airports')\n",
    "plt.legend()\n",
    "plt"
   ]
  },
  {
   "cell_type": "markdown",
   "metadata": {},
   "source": [
    "The objective function is given by $f(x_1,y_1,x_2,y_2,x_3,y_3)=\\sum_{i=1}^n\\sum_{c\\in C_i}(x_i-x_c)^2+(y_i-y_c)^2$ where $n$ is the number of the airports and $C_i$ is the set of cities whose closest airport is airport $i$. The goal of the program is determining the locations of airports that minimize the objective function using gradient based optimizatoin. \n",
    "\n",
    "The gradient of the objective function is $\\nabla f(x_1,y_1,x_2,y_2,x_3,y_3)=\\big(2\\sum_{c\\in C_1}(x_1-x_c),2\\sum_{c\\in C_1}(y_1-y_c),2\\sum_{c\\in C_2}(x_2-x_c),2\\sum_{c\\in C_2}(y_2-y_c),2\\sum_{c\\in C_3}(x_3-x_c),2\\sum_{c\\in C_3}(y_3-y_c)\\big)$\n",
    "\n",
    "By updating $(x_1,y_1,x_2,y_2,x_3,y_3)\\gets (x_1,y_1,x_2,y_2,x_3,y_3)-\\alpha \\nabla f(x_1,y_1,x_2,y_2,x_3,y_3)$ where $0<\\alpha\\ll1$ is a constant, **find the optimal locations of the airports $(x_1,y_1,x_2,y_2,x_3,y_3)$.**\n",
    "\n",
    "Every time the locations of the airports are updated, **plot the objective value as shown in the figure**.\n",
    "\n",
    "<Note: The objective values may be different than the example.>\n",
    "<img src=\"airports_loss.png\" style=\"width:400px\">"
   ]
  },
  {
   "cell_type": "code",
   "execution_count": null,
   "metadata": {},
   "outputs": [],
   "source": []
  }
 ],
 "metadata": {
  "kernelspec": {
   "display_name": "Python 3",
   "language": "python",
   "name": "python3"
  },
  "language_info": {
   "codemirror_mode": {
    "name": "ipython",
    "version": 3
   },
   "file_extension": ".py",
   "mimetype": "text/x-python",
   "name": "python",
   "nbconvert_exporter": "python",
   "pygments_lexer": "ipython3",
   "version": "3.7.2"
  }
 },
 "nbformat": 4,
 "nbformat_minor": 2
}
