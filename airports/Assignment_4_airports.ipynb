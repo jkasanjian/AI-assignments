{
 "cells": [
  {
   "cell_type": "markdown",
   "metadata": {},
   "source": [
    "## Assignment 4\n",
    "Jonathan Bazan, Daniel Flores, Joshua Kasanjian"
   ]
  },
  {
   "cell_type": "code",
   "execution_count": 23,
   "metadata": {},
   "outputs": [
    {
     "data": {
      "image/png": "[encoded data removed]",
      "text/plain": [
       "<Figure size 432x288 with 1 Axes>"
      ]
     },
     "metadata": {
      "needs_background": "light"
     },
     "output_type": "display_data"
    },
    {
     "name": "stdout",
     "output_type": "stream",
     "text": [
      "Loss: 2056.812237625499\n"
     ]
    },
    {
     "data": {
      "image/png": "[encoded data removed]",
      "text/plain": [
       "<Figure size 432x288 with 1 Axes>"
      ]
     },
     "metadata": {
      "needs_background": "light"
     },
     "output_type": "display_data"
    }
   ],
   "source": [
    "import random\n",
    "import matplotlib.pyplot as plt\n",
    "\n",
    "\n",
    "def initialize():\n",
    "    num_city = 100\n",
    "    num_air = 3\n",
    "    cities = set()\n",
    "    airports = []\n",
    "\n",
    "    for i in range(num_city):\n",
    "        x = random.random()\n",
    "        y = random.random()\n",
    "        cities.add((x,y))\n",
    "\n",
    "    for i in range(num_air):\n",
    "        x = random.random()\n",
    "        y = random.random()\n",
    "        airports.append((x,y))\n",
    "    \n",
    "    return cities, airports\n",
    "    \n",
    "    \n",
    "def f(cities, airports):\n",
    "    distance = 0\n",
    "    for a in airports:\n",
    "        for c in cities:\n",
    "            distance += ((a[0] - c[0])**2) + ((a[1] - c[1])**2)\n",
    "    return distance\n",
    "\n",
    "\n",
    "def showMap(cities, airports, old_airports):\n",
    "    zip_cities = zip(*cities)\n",
    "    plt.scatter(*zip_cities, marker='+',color='b', label='Cities')\n",
    "    zip_airs = zip(*airports)\n",
    "    plt.scatter(*zip_airs, marker='*', color='g', s=100, label='New Airports')\n",
    "    zip_airs_old = zip(*old_airports)\n",
    "    plt.scatter(*zip_airs_old, marker='*', color='r', s=100, label='Original Airports')\n",
    "    plt.show()\n",
    "    plt.close()\n",
    "\n",
    "\n",
    "def split_cities(cities, airports):\n",
    "    c1 = set()\n",
    "    c2 = set()\n",
    "    c3 = set()\n",
    "    \n",
    "    for c in cities:\n",
    "        distanceA = ((airports[0][0] - c[0])**2) + ((airports[0][1] - c[1])**2)\n",
    "        distanceB = ((airports[1][0] - c[0])**2) + ((airports[1][1] - c[1])**2)\n",
    "        distanceC = ((airports[2][0] - c[0])**2) + ((airports[2][1] - c[1])**2)\n",
    "        distances = [distanceA, distanceB, distanceC]\n",
    "        if distanceA == min(distances):\n",
    "            c1.add(c)\n",
    "        elif distanceB == min(distances):\n",
    "            c2.add(c)\n",
    "        else:\n",
    "            c3.add(c)\n",
    "    return c1, c2, c3\n",
    "\n",
    "\n",
    "def calculate_gradient(cities, airports):\n",
    "    c1, c2, c3 = split_cities(cities,airports)\n",
    "    x_1, y_1, x_2, y_2, x_3, y_3 = 0,0,0,0,0,0\n",
    "    for c in c1:\n",
    "        x_1 += (airports[0][0] - c[0])\n",
    "        y_1 += (airports[0][1] - c[1])\n",
    "    for c in c2:\n",
    "        x_2 += (airports[1][0] - c[0])\n",
    "        y_2 += (airports[1][1] - c[1])\n",
    "    for c in c3:\n",
    "        x_3 += (airports[2][0] - c[0])\n",
    "        y_3 += (airports[2][1] - c[1])\n",
    "    \n",
    "    return [2*x_1, 2*y_1, 2*x_2, 2*y_2, 2*x_3, 2*y_3]\n",
    "                \n",
    "\n",
    "def main():\n",
    "    cities, airports = initialize()\n",
    "    old_airports = airports.copy()\n",
    "    # epochs = random.randint(25,100)\n",
    "    epochs = 20\n",
    "    a = 0.001\n",
    "    distances = []\n",
    "    for i in range(epochs):\n",
    "        gradient = calculate_gradient(cities, airports)\n",
    "        airports[0] = (airports[0][0]-(a*gradient[0]), airports[0][1]-(a*gradient[1]))\n",
    "        airports[1] = (airports[1][0]-(a*gradient[2]), airports[1][1]-(a*gradient[3]))\n",
    "        airports[2] = (airports[2][0]-(a*gradient[4]), airports[2][1]-(a*gradient[5]))\n",
    "            \n",
    "        distances.append(f(cities, airports))\n",
    "\n",
    "    showMap(cities, airports, old_airports)\n",
    "    print('Loss:', sum(distances))\n",
    "    \n",
    "    plt.scatter(list(range(1, epochs+1)),distances)\n",
    "    plt.xlabel('Epoch')\n",
    "    plt.ylabel('Distance')\n",
    "\n",
    "    \n",
    "main()"
   ]
  },
  {
   "cell_type": "markdown",
   "metadata": {},
   "source": [
    "The objective function is given by $f(x_1,y_1,x_2,y_2,x_3,y_3)=\\sum_{i=1}^n\\sum_{c\\in C_i}(x_i-x_c)^2+(y_i-y_c)^2$ where $n$ is the number of the airports and $C_i$ is the set of cities whose closest airport is airport $i$. The goal of the program is determining the locations of airports that minimize the objective function using gradient based optimizatoin. \n",
    "\n",
    "The gradient of the objective function is $\\nabla f(x_1,y_1,x_2,y_2,x_3,y_3)=\\big(2\\sum_{c\\in C_1}(x_1-x_c),2\\sum_{c\\in C_1}(y_1-y_c),2\\sum_{c\\in C_2}(x_2-x_c),2\\sum_{c\\in C_2}(y_2-y_c),2\\sum_{c\\in C_3}(x_3-x_c),2\\sum_{c\\in C_3}(y_3-y_c)\\big)$\n",
    "\n",
    "By updating $(x_1,y_1,x_2,y_2,x_3,y_3)\\gets (x_1,y_1,x_2,y_2,x_3,y_3)-\\alpha \\nabla f(x_1,y_1,x_2,y_2,x_3,y_3)$ where $0<\\alpha\\ll1$ is a constant, **find the optimal locations of the airports $(x_1,y_1,x_2,y_2,x_3,y_3)$.**\n",
    "\n",
    "Every time the locations of the airports are updated, **plot the objective value as shown in the figure**.\n",
    "\n",
    "<Note: The objective values may be different than the example.>\n",
    "<img src=\"airports_loss.png\" style=\"width:400px\">"
   ]
  }
 ],
 "metadata": {
  "kernelspec": {
   "display_name": "Python 3",
   "language": "python",
   "name": "python3"
  },
  "language_info": {
   "codemirror_mode": {
    "name": "ipython",
    "version": 3
   },
   "file_extension": ".py",
   "mimetype": "text/x-python",
   "name": "python",
   "nbconvert_exporter": "python",
   "pygments_lexer": "ipython3",
   "version": "3.7.6"
  }
 },
 "nbformat": 4,
 "nbformat_minor": 2
}
