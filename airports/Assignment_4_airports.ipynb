{
 "cells": [
  {
   "cell_type": "code",
   "execution_count": 7,
   "metadata": {},
   "outputs": [
    {
     "name": "stdout",
     "output_type": "stream",
     "text": [
      "60.70718454834626\n",
      "{(0.39982015238705537, 0.745092650987271), (0.6701868919024047, 0.8153029700247915), (0.6416202805499795, 0.6270828898830015), (0.4811301950558906, 0.6515728182653934), (0.6891783542181787, 0.7591874657718839), (0.2961918358987802, 0.5653348517881307), (0.12000378094798236, 0.8605268487626507), (0.6422618896086455, 0.6119991055145153), (0.9787358496678493, 0.9145538755780318), (0.3006992191211839, 0.8416364203371863), (0.47842915784572615, 0.5892260618033988), (0.05717357878004237, 0.6342158270236065), (0.3197689312915898, 0.938968212820569), (0.8582405545159908, 0.9380000901300929), (0.13251498194291267, 0.6222408971869968), (0.19955440211734232, 0.7876494105055266), (0.5106457510272752, 0.6242720278308853), (0.3907677537211871, 0.6132295962968165), (0.2801542907954272, 0.8585704333917059), (0.90670557492665, 0.8725921710925), (0.055875822646374806, 0.8980501380041539), (0.2414331609664826, 0.730222995145812), (0.2793071242311649, 0.9631003485229449), (0.25516884627854197, 0.7194293843436003), (0.522674941768458, 0.6318226097457262), (0.8404228060017729, 0.8627382624616782), (0.3206597866161899, 0.8008713035837673), (0.6958008752436589, 0.8222404356887686), (0.0021639080272755074, 0.688040705108454), (0.5879919111475075, 0.570829379482682), (0.7038099189292999, 0.74558019147208), (0.3547849916424106, 0.9004516196764131), (0.3358846350432185, 0.6675898056441533), (0.29277675798376235, 0.6235364275485402)}\n",
      "{(0.10883098376520617, 0.33400079510104086), (0.6012320362756933, 0.1730375814384636), (0.34377893246038516, 0.399010589902582), (0.24978187688959141, 0.06968594130316463), (0.22704815177841697, 0.45885283978666436), (0.6058909207143024, 0.2795793644049285), (0.7888644699754308, 0.19131866225383587), (0.6502211257099669, 0.23696531296319534), (0.04428174178367372, 0.5223519144580451), (0.7974558612766671, 0.1547384916011364), (0.4383988318729056, 0.35109089531981363), (0.1195322673453657, 0.2912147597676199), (0.7369861065500053, 0.13922127241967674), (0.42019886909186654, 0.48339335018902796), (0.4333585127698597, 0.07076862681801332), (0.804125721055066, 0.14973112513161013), (0.3053955456870783, 0.5188176212326787), (0.5896868206019454, 0.4229493345570082), (0.5661717478445422, 0.47668416612349485), (0.7468084413506738, 0.3480945466609092), (0.3153976871145543, 0.5284315898188304), (0.35664613288382796, 0.23892412536128316), (0.5103110543947652, 0.3783923170401351), (0.0932796810066645, 0.22032015111287817), (0.31271266559536814, 0.022743826391478095), (0.23599331116678013, 0.3413749887333002), (0.39822711696108215, 0.502292456671838), (0.5270776237079936, 0.27388076983761656), (0.03338232334923463, 0.5124459755713371), (0.3327467008111118, 0.2674733027452859), (0.7569169793140386, 0.2723271401480537), (0.8449282133984721, 0.3105575006640675), (0.8673193802213445, 0.09747514596515439), (0.0007342916043137082, 0.3877712815088121), (0.1977972974781994, 0.26030363007871693), (0.7821760422450411, 0.10719008924082318), (0.3841949095106999, 0.41310872890758343), (0.1578166116155909, 0.3424227451764924), (0.786121143522357, 0.2881019931731734), (0.3279387799917567, 0.16753352385950648), (0.26203658639250926, 0.18186501281455625), (0.7969304691651579, 0.20148761032595408), (0.5619448756342014, 0.43713152740557204), (0.12093126574210078, 0.4788401157149005), (0.18160051213096284, 0.48448066776333376), (0.838853440736, 0.34562952330752206), (0.4643257913439588, 0.18644251145645674), (0.4741841210406281, 0.08621654535305023), (0.9088369765111263, 0.05560441073138933), (0.23995507475326172, 0.35487784960178725), (0.8371869366078966, 0.07176593364667272), (0.1533323161800646, 0.25362408922144264), (0.04188993098343896, 0.2809103932302739), (0.23455891267858375, 0.46922731559636566), (0.5346009631644232, 0.19346212265541152)}\n",
      "{(0.8758117001642705, 0.567300627570154), (0.7613018901246337, 0.5495708313989635), (0.762984925296157, 0.547218561271452), (0.8532392275075177, 0.3985857507897951), (0.8029504787322431, 0.49502137076820696), (0.967078164405501, 0.3448236015439794), (0.9794340513027635, 0.46932835045388455), (0.7897008981579425, 0.47241008246951044), (0.8784230720750801, 0.36804662553511425), (0.9365336963623234, 0.7260387395043838), (0.8596753056175482, 0.6798728148774786)}\n"
     ]
    }
   ],
   "source": [
    "import random\n",
    "\n",
    "num_city = 100\n",
    "num_air = 3\n",
    "cities = set()\n",
    "airports = []\n",
    "\n",
    "for i in range(num_city):\n",
    "    x = random.random()\n",
    "    y = random.random()\n",
    "    cities.add((x,y))\n",
    "    \n",
    "for i in range(num_air):\n",
    "    x = random.random()\n",
    "    y = random.random()\n",
    "    airports.append((x,y))\n",
    "    \n",
    "def f():\n",
    "    distance = 0\n",
    "    for a in airports:\n",
    "        for c in cities:\n",
    "            distance += ((a[0] - c[0])**2) + ((a[1] - c[1])**2)\n",
    "    return distance\n",
    "\n",
    "print(f())\n",
    "\n",
    "def split_cities():\n",
    "    c1 = set()\n",
    "    c2 = set()\n",
    "    c3 = set()\n",
    "    \n",
    "    for c in cities:\n",
    "        distanceA = ((airports[0][0] - c[0])**2) + ((airports[0][1] - c[1])**2)\n",
    "        distanceB = ((airports[1][0] - c[0])**2) + ((airports[1][1] - c[1])**2)\n",
    "        distanceC = ((airports[2][0] - c[0])**2) + ((airports[2][1] - c[1])**2)\n",
    "        distances = [distanceA, distanceB, distanceC]\n",
    "        if distanceA == max(distances):\n",
    "            c1.add(c)\n",
    "        elif distanceB == max(distances):\n",
    "            c2.add(c)\n",
    "        else:\n",
    "            c3.add(c)\n",
    "    return c1, c2, c3\n",
    "\n",
    "c1, c2, c3 = split_cities()\n",
    "print(c1)\n",
    "print(c2)\n",
    "print(c3)\n",
    "\n",
    "def gradient_element():\n",
    "    pass\n",
    "    "
   ]
  },
  {
   "cell_type": "code",
   "execution_count": 33,
   "metadata": {
    "scrolled": true
   },
   "outputs": [
    {
     "data": {
      "text/plain": [
       "<module 'matplotlib.pyplot' from '/home/jmoon/.conda/envs/mlenv/lib/python3.7/site-packages/matplotlib/pyplot.py'>"
      ]
     },
     "execution_count": 33,
     "metadata": {},
     "output_type": "execute_result"
    },
    {
     "data": {
      "image/png": "[encoded data removed]",
      "text/plain": [
       "<Figure size 432x288 with 1 Axes>"
      ]
     },
     "metadata": {
      "needs_background": "light"
     },
     "output_type": "display_data"
    }
   ],
   "source": [
    "import matplotlib.pyplot as plt\n",
    "\n",
    "zip_cities = zip(*cities)\n",
    "plt.scatter(*zip_cities, marker='+',color='b', label='Cities')\n",
    "zip_airs = zip(*airports)\n",
    "plt.scatter(*zip_airs, marker='*', color='r', s=100, label='Airports')\n",
    "plt.legend()\n",
    "plt"
   ]
  },
  {
   "cell_type": "markdown",
   "metadata": {},
   "source": [
    "The objective function is given by $f(x_1,y_1,x_2,y_2,x_3,y_3)=\\sum_{i=1}^n\\sum_{c\\in C_i}(x_i-x_c)^2+(y_i-y_c)^2$ where $n$ is the number of the airports and $C_i$ is the set of cities whose closest airport is airport $i$. The goal of the program is determining the locations of airports that minimize the objective function using gradient based optimizatoin. \n",
    "\n",
    "The gradient of the objective function is $\\nabla f(x_1,y_1,x_2,y_2,x_3,y_3)=\\big(2\\sum_{c\\in C_1}(x_1-x_c),2\\sum_{c\\in C_1}(y_1-y_c),2\\sum_{c\\in C_2}(x_2-x_c),2\\sum_{c\\in C_2}(y_2-y_c),2\\sum_{c\\in C_3}(x_3-x_c),2\\sum_{c\\in C_3}(y_3-y_c)\\big)$\n",
    "\n",
    "By updating $(x_1,y_1,x_2,y_2,x_3,y_3)\\gets (x_1,y_1,x_2,y_2,x_3,y_3)-\\alpha \\nabla f(x_1,y_1,x_2,y_2,x_3,y_3)$ where $0<\\alpha\\ll1$ is a constant, **find the optimal locations of the airports $(x_1,y_1,x_2,y_2,x_3,y_3)$.**\n",
    "\n",
    "Every time the locations of the airports are updated, **plot the objective value as shown in the figure**.\n",
    "\n",
    "<Note: The objective values may be different than the example.>\n",
    "<img src=\"airports_loss.png\" style=\"width:400px\">"
   ]
  }
 ],
 "metadata": {
  "kernelspec": {
   "display_name": "Python 3",
   "language": "python",
   "name": "python3"
  },
  "language_info": {
   "codemirror_mode": {
    "name": "ipython",
    "version": 3
   },
   "file_extension": ".py",
   "mimetype": "text/x-python",
   "name": "python",
   "nbconvert_exporter": "python",
   "pygments_lexer": "ipython3",
   "version": "3.7.1"
  }
 },
 "nbformat": 4,
 "nbformat_minor": 2
}
