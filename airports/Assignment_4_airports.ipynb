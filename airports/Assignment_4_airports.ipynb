{
 "cells": [
  {
   "cell_type": "code",
   "execution_count": 5,
   "metadata": {},
   "outputs": [
    {
     "name": "stdout",
     "output_type": "stream",
     "text": [
      "79.3488147480315\n",
      "Current Airports: [(0.5275495555568133, 0.5435056911131101), (0.5316207107887612, 0.9557747747773889), (0.37337208304514613, 0.677569242756612)]\n",
      "Updated Map\n",
      "Updated Map\n",
      "Aiports after Gradient Descent for 61 epochs:\n",
      " [(0.5718629217782581, 0.4138445518362038), (0.5478121636614125, 1.0375045720778735), (0.26774969578355606, 0.7053997323550251)]\n"
     ]
    },
    {
     "data": {
      "image/png": "[encoded data removed]",
      "text/plain": [
       "<Figure size 432x288 with 1 Axes>"
      ]
     },
     "metadata": {
      "needs_background": "light"
     },
     "output_type": "display_data"
    }
   ],
   "source": [
    "import random\n",
    "import matplotlib.pyplot as plt\n",
    "\n",
    "num_city = 100\n",
    "num_air = 3\n",
    "cities = set()\n",
    "airports = []\n",
    "\n",
    "for i in range(num_city):\n",
    "    x = random.random()\n",
    "    y = random.random()\n",
    "    cities.add((x,y))\n",
    "    \n",
    "for i in range(num_air):\n",
    "    x = random.random()\n",
    "    y = random.random()\n",
    "    airports.append((x,y))\n",
    "    \n",
    "def f():\n",
    "    distance = 0\n",
    "    for a in airports:\n",
    "        for c in cities:\n",
    "            distance += ((a[0] - c[0])**2) + ((a[1] - c[1])**2)\n",
    "    return distance\n",
    "\n",
    "print(f())\n",
    "\n",
    "def showMap(c = \"g\"):\n",
    "    print(\"Updated Map\")\n",
    "    zip_cities = zip(*cities)\n",
    "    plt.scatter(*zip_cities, marker='+',color='b', label='Cities')\n",
    "    zip_airs = zip(*airports)\n",
    "    plt.scatter(*zip_airs, marker='*', color=c, s=100, label='Airports')\n",
    "    #plt.legend()\n",
    "    plt\n",
    "    \n",
    "\n",
    "def split_cities():\n",
    "    c1 = set()\n",
    "    c2 = set()\n",
    "    c3 = set()\n",
    "    \n",
    "    for c in cities:\n",
    "        distanceA = ((airports[0][0] - c[0])**2) + ((airports[0][1] - c[1])**2)\n",
    "        distanceB = ((airports[1][0] - c[0])**2) + ((airports[1][1] - c[1])**2)\n",
    "        distanceC = ((airports[2][0] - c[0])**2) + ((airports[2][1] - c[1])**2)\n",
    "        distances = [distanceA, distanceB, distanceC]\n",
    "        if distanceA == min(distances):\n",
    "            c1.add(c)\n",
    "        elif distanceB == min(distances):\n",
    "            c2.add(c)\n",
    "        else:\n",
    "            c3.add(c)\n",
    "    return c1, c2, c3\n",
    "\n",
    "c1, c2, c3 = split_cities()\n",
    "\n",
    "print(\"Current Airports:\",airports)\n",
    "showMap()\n",
    "\n",
    "\"\"\"\n",
    "Calculates the gradient for each aiport and updates their location\n",
    "Initial gradient is 0, and then the airports coordinates are passed in as the init\n",
    "\"\"\"\n",
    "def gradient_element(gradient = [0,0,0,0,0,0]):\n",
    "    a = .0001\n",
    "    for c in c1:\n",
    "        gradient[0] += 2*(airports[0][0] - c[0])\n",
    "        gradient[1] += 2*(airports[0][1] - c[1])\n",
    "    for c in c2:\n",
    "        gradient[2] += 2*(airports[0][0] - c[0])\n",
    "        gradient[3] += 2*(airports[0][1] - c[1]) \n",
    "    for c in c3:\n",
    "        gradient[4] += 2*(airports[0][0] - c[0])\n",
    "        gradient[5] += 2*(airports[0][1] - c[1])\n",
    "    return [(airports[0][0] - a*gradient[0],airports[0][1] - a*gradient[1]),(airports[1][0] - a*gradient[2], airports[1][1] - a*gradient[3]),( airports[2][0] - a*gradient[4],airports[2][1] - a*gradient[5])]\n",
    "\n",
    "\n",
    "num = 0\n",
    "epochs = random.randint(25,100)\n",
    "for i in range(epochs):\n",
    "    num += 1\n",
    "    if(num == 0):\n",
    "        f()\n",
    "        c1,c2,c3 = split_cities()\n",
    "        airports = gradient_element()\n",
    "    else:\n",
    "        f()\n",
    "        c1,c2,c3 = split_cities()\n",
    "        airports = gradient_element([airports[0][0],airports[0][1],airports[1][0],airports[1][1],airports[2][0],airports[2][1]])\n",
    "\n",
    "showMap(\"r\")\n",
    "print(\"Aiports after Gradient Descent for\",epochs,\"epochs:\\n\",airports)"
   ]
  },
  {
   "cell_type": "code",
   "execution_count": 49,
   "metadata": {},
   "outputs": [
    {
     "ename": "UnboundLocalError",
     "evalue": "local variable 'airports' referenced before assignment",
     "output_type": "error",
     "traceback": [
      "\u001b[0;31m---------------------------------------------------------------------------\u001b[0m",
      "\u001b[0;31mUnboundLocalError\u001b[0m                         Traceback (most recent call last)",
      "\u001b[0;32m<ipython-input-49-0b741cd0159b>\u001b[0m in \u001b[0;36m<module>\u001b[0;34m\u001b[0m\n\u001b[1;32m     11\u001b[0m         \u001b[0mairports\u001b[0m \u001b[0;34m=\u001b[0m \u001b[0mgradient_element\u001b[0m\u001b[0;34m(\u001b[0m\u001b[0;34m[\u001b[0m\u001b[0mairports\u001b[0m\u001b[0;34m[\u001b[0m\u001b[0;36m0\u001b[0m\u001b[0;34m]\u001b[0m\u001b[0;34m[\u001b[0m\u001b[0;36m0\u001b[0m\u001b[0;34m]\u001b[0m\u001b[0;34m,\u001b[0m\u001b[0mairports\u001b[0m\u001b[0;34m[\u001b[0m\u001b[0;36m0\u001b[0m\u001b[0;34m]\u001b[0m\u001b[0;34m[\u001b[0m\u001b[0;36m1\u001b[0m\u001b[0;34m]\u001b[0m\u001b[0;34m,\u001b[0m\u001b[0mairports\u001b[0m\u001b[0;34m[\u001b[0m\u001b[0;36m1\u001b[0m\u001b[0;34m]\u001b[0m\u001b[0;34m[\u001b[0m\u001b[0;36m0\u001b[0m\u001b[0;34m]\u001b[0m\u001b[0;34m,\u001b[0m\u001b[0mairports\u001b[0m\u001b[0;34m[\u001b[0m\u001b[0;36m1\u001b[0m\u001b[0;34m]\u001b[0m\u001b[0;34m[\u001b[0m\u001b[0;36m1\u001b[0m\u001b[0;34m]\u001b[0m\u001b[0;34m,\u001b[0m\u001b[0mairports\u001b[0m\u001b[0;34m[\u001b[0m\u001b[0;36m2\u001b[0m\u001b[0;34m]\u001b[0m\u001b[0;34m[\u001b[0m\u001b[0;36m0\u001b[0m\u001b[0;34m]\u001b[0m\u001b[0;34m,\u001b[0m\u001b[0mairports\u001b[0m\u001b[0;34m[\u001b[0m\u001b[0;36m2\u001b[0m\u001b[0;34m]\u001b[0m\u001b[0;34m[\u001b[0m\u001b[0;36m1\u001b[0m\u001b[0;34m]\u001b[0m\u001b[0;34m]\u001b[0m\u001b[0;34m)\u001b[0m\u001b[0;34m\u001b[0m\u001b[0;34m\u001b[0m\u001b[0m\n\u001b[1;32m     12\u001b[0m \u001b[0;34m\u001b[0m\u001b[0m\n\u001b[0;32m---> 13\u001b[0;31m \u001b[0mairports\u001b[0m \u001b[0;34m=\u001b[0m \u001b[0mrun_GD\u001b[0m\u001b[0;34m(\u001b[0m\u001b[0;34m)\u001b[0m\u001b[0;34m\u001b[0m\u001b[0;34m\u001b[0m\u001b[0m\n\u001b[0m\u001b[1;32m     14\u001b[0m \u001b[0mshowMap\u001b[0m\u001b[0;34m(\u001b[0m\u001b[0;34m\"Updated Map\"\u001b[0m\u001b[0;34m)\u001b[0m\u001b[0;34m\u001b[0m\u001b[0;34m\u001b[0m\u001b[0m\n\u001b[1;32m     15\u001b[0m \u001b[0mprint\u001b[0m\u001b[0;34m(\u001b[0m\u001b[0;34m\"Aiports after Gradient Descent\"\u001b[0m\u001b[0;34m,\u001b[0m\u001b[0mairports\u001b[0m\u001b[0;34m)\u001b[0m\u001b[0;34m\u001b[0m\u001b[0;34m\u001b[0m\u001b[0m\n",
      "\u001b[0;32m<ipython-input-46-2893e8dc5d82>\u001b[0m in \u001b[0;36mrun_GD\u001b[0;34m()\u001b[0m\n\u001b[1;32m     10\u001b[0m             \u001b[0mf\u001b[0m\u001b[0;34m(\u001b[0m\u001b[0;34m)\u001b[0m\u001b[0;34m\u001b[0m\u001b[0;34m\u001b[0m\u001b[0m\n\u001b[1;32m     11\u001b[0m             \u001b[0mc1\u001b[0m\u001b[0;34m,\u001b[0m\u001b[0mc2\u001b[0m\u001b[0;34m,\u001b[0m\u001b[0mc3\u001b[0m \u001b[0;34m=\u001b[0m \u001b[0msplit_cities\u001b[0m\u001b[0;34m(\u001b[0m\u001b[0;34m)\u001b[0m\u001b[0;34m\u001b[0m\u001b[0;34m\u001b[0m\u001b[0m\n\u001b[0;32m---> 12\u001b[0;31m             \u001b[0mairports\u001b[0m \u001b[0;34m=\u001b[0m \u001b[0mgradient_element\u001b[0m\u001b[0;34m(\u001b[0m\u001b[0;34m[\u001b[0m\u001b[0mairports\u001b[0m\u001b[0;34m[\u001b[0m\u001b[0;36m0\u001b[0m\u001b[0;34m]\u001b[0m\u001b[0;34m[\u001b[0m\u001b[0;36m0\u001b[0m\u001b[0;34m]\u001b[0m\u001b[0;34m,\u001b[0m\u001b[0mairports\u001b[0m\u001b[0;34m[\u001b[0m\u001b[0;36m0\u001b[0m\u001b[0;34m]\u001b[0m\u001b[0;34m[\u001b[0m\u001b[0;36m1\u001b[0m\u001b[0;34m]\u001b[0m\u001b[0;34m,\u001b[0m\u001b[0mairports\u001b[0m\u001b[0;34m[\u001b[0m\u001b[0;36m1\u001b[0m\u001b[0;34m]\u001b[0m\u001b[0;34m[\u001b[0m\u001b[0;36m0\u001b[0m\u001b[0;34m]\u001b[0m\u001b[0;34m,\u001b[0m\u001b[0mairports\u001b[0m\u001b[0;34m[\u001b[0m\u001b[0;36m1\u001b[0m\u001b[0;34m]\u001b[0m\u001b[0;34m[\u001b[0m\u001b[0;36m1\u001b[0m\u001b[0;34m]\u001b[0m\u001b[0;34m,\u001b[0m\u001b[0mairports\u001b[0m\u001b[0;34m[\u001b[0m\u001b[0;36m2\u001b[0m\u001b[0;34m]\u001b[0m\u001b[0;34m[\u001b[0m\u001b[0;36m0\u001b[0m\u001b[0;34m]\u001b[0m\u001b[0;34m,\u001b[0m\u001b[0mairports\u001b[0m\u001b[0;34m[\u001b[0m\u001b[0;36m2\u001b[0m\u001b[0;34m]\u001b[0m\u001b[0;34m[\u001b[0m\u001b[0;36m1\u001b[0m\u001b[0;34m]\u001b[0m\u001b[0;34m]\u001b[0m\u001b[0;34m)\u001b[0m\u001b[0;34m\u001b[0m\u001b[0;34m\u001b[0m\u001b[0m\n\u001b[0m\u001b[1;32m     13\u001b[0m     \u001b[0;32mreturn\u001b[0m \u001b[0mairports\u001b[0m\u001b[0;34m\u001b[0m\u001b[0;34m\u001b[0m\u001b[0m\n\u001b[1;32m     14\u001b[0m \u001b[0;34m\u001b[0m\u001b[0m\n",
      "\u001b[0;31mUnboundLocalError\u001b[0m: local variable 'airports' referenced before assignment"
     ]
    }
   ],
   "source": [
    "def run_GD():\n",
    "num = 0\n",
    "for i in range(20):\n",
    "    num += 1\n",
    "    if(num == 0):\n",
    "        f()\n",
    "        c1,c2,c3 = split_cities()\n",
    "        airports = gradient_element()\n",
    "    else:\n",
    "        f()\n",
    "        c1,c2,c3 = split_cities()\n",
    "        airports = gradient_element([airports[0][0],airports[0][1],airports[1][0],airports[1][1],airports[2][0],airports[2][1]])\n",
    "    return airports\n",
    "airports = run_GD()\n",
    "showMap(\"Updated Map\")\n",
    "print(\"Aiports after Gradient Descent\",airports)\n",
    "\n"
   ]
  },
  {
   "cell_type": "code",
   "execution_count": 12,
   "metadata": {
    "scrolled": true
   },
   "outputs": [
    {
     "data": {
      "text/plain": [
       "<module 'matplotlib.pyplot' from '/Library/Frameworks/Python.framework/Versions/3.7/lib/python3.7/site-packages/matplotlib/pyplot.py'>"
      ]
     },
     "execution_count": 12,
     "metadata": {},
     "output_type": "execute_result"
    },
    {
     "data": {
      "image/png": "[encoded data removed]",
      "text/plain": [
       "<Figure size 432x288 with 1 Axes>"
      ]
     },
     "metadata": {
      "needs_background": "light"
     },
     "output_type": "display_data"
    }
   ],
   "source": [
    "import matplotlib.pyplot as plt\n",
    "\n",
    "zip_cities = zip(*cities)\n",
    "plt.scatter(*zip_cities, marker='+',color='b', label='Cities')\n",
    "zip_airs = zip(*airports)\n",
    "plt.scatter(*zip_airs, marker='*', color='r', s=100, label='Airports')\n",
    "plt.legend()\n",
    "plt"
   ]
  },
  {
   "cell_type": "markdown",
   "metadata": {},
   "source": [
    "The objective function is given by $f(x_1,y_1,x_2,y_2,x_3,y_3)=\\sum_{i=1}^n\\sum_{c\\in C_i}(x_i-x_c)^2+(y_i-y_c)^2$ where $n$ is the number of the airports and $C_i$ is the set of cities whose closest airport is airport $i$. The goal of the program is determining the locations of airports that minimize the objective function using gradient based optimizatoin. \n",
    "\n",
    "The gradient of the objective function is $\\nabla f(x_1,y_1,x_2,y_2,x_3,y_3)=\\big(2\\sum_{c\\in C_1}(x_1-x_c),2\\sum_{c\\in C_1}(y_1-y_c),2\\sum_{c\\in C_2}(x_2-x_c),2\\sum_{c\\in C_2}(y_2-y_c),2\\sum_{c\\in C_3}(x_3-x_c),2\\sum_{c\\in C_3}(y_3-y_c)\\big)$\n",
    "\n",
    "By updating $(x_1,y_1,x_2,y_2,x_3,y_3)\\gets (x_1,y_1,x_2,y_2,x_3,y_3)-\\alpha \\nabla f(x_1,y_1,x_2,y_2,x_3,y_3)$ where $0<\\alpha\\ll1$ is a constant, **find the optimal locations of the airports $(x_1,y_1,x_2,y_2,x_3,y_3)$.**\n",
    "\n",
    "Every time the locations of the airports are updated, **plot the objective value as shown in the figure**.\n",
    "\n",
    "<Note: The objective values may be different than the example.>\n",
    "<img src=\"airports_loss.png\" style=\"width:400px\">"
   ]
  },
  {
   "cell_type": "code",
   "execution_count": null,
   "metadata": {},
   "outputs": [],
   "source": []
  }
 ],
 "metadata": {
  "kernelspec": {
   "display_name": "Python 3",
   "language": "python",
   "name": "python3"
  },
  "language_info": {
   "codemirror_mode": {
    "name": "ipython",
    "version": 3
   },
   "file_extension": ".py",
   "mimetype": "text/x-python",
   "name": "python",
   "nbconvert_exporter": "python",
   "pygments_lexer": "ipython3",
   "version": "3.7.2"
  }
 },
 "nbformat": 4,
 "nbformat_minor": 2
}
