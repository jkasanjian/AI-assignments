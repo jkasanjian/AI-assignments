{
 "cells": [
  {
   "cell_type": "code",
   "execution_count": 6,
   "metadata": {},
   "outputs": [
    {
     "name": "stdout",
     "output_type": "stream",
     "text": [
      "[[0 0 0 1 0]\n",
      " [0 0 0 1 0]\n",
      " [0 0 0 0 1]\n",
      " [0 0 0 1 0]\n",
      " [1 0 0 0 0]]\n",
      "Fitness:  4\n",
      "33430\n"
     ]
    }
   ],
   "source": [
    "import random\n",
    "import numpy as np\n",
    "\n",
    "\n",
    "class Board:\n",
    "    def __init__(self, n):\n",
    "        self.n_queen = n\n",
    "        self.map = [[0 for j in range(n)] for i in range(n)]\n",
    "        self.fit = 0\n",
    "\n",
    "    def set_queens(self):\n",
    "        for i in range(self.n_queen):\n",
    "            j = random.randint(0, self.n_queen - 1)\n",
    "            self.map[i][j] = 1\n",
    "\n",
    "    def fitness(self):\n",
    "        self.fit = self.n_queen * (self.n_queen - 1) // 2\n",
    "        for i in range(self.n_queen):\n",
    "            for j in range(self.n_queen):\n",
    "                if self.map[i][j] == 1:\n",
    "                    for k in range(1, self.n_queen - i):\n",
    "                        if self.map[i + k][j] == 1:\n",
    "                            self.fit -= 1\n",
    "                        if j - k >= 0 and self.map[i + k][j - k] == 1:\n",
    "                            self.fit -= 1\n",
    "                        if j + k < self.n_queen and self.map[i + k][j + k] == 1:\n",
    "                            self.fit -= 1\n",
    "                            \n",
    "    def encode(self):\n",
    "        s = ''\n",
    "        for row in self.map:\n",
    "            for i in range(len(row)):\n",
    "                if row[i] == 1:\n",
    "                    s += str(i)\n",
    "                    break\n",
    "        return s\n",
    "\n",
    "    \n",
    "    def show(self):\n",
    "        print(np.matrix(self.map))\n",
    "        print(\"Fitness: \",  self.fit)\n",
    "\n",
    "        \n",
    "if __name__ == '__main__':\n",
    "    test = Board(5)\n",
    "    test.set_queens()\n",
    "    test.fitness()\n",
    "    test.show()\n",
    "    print(test.encode())"
   ]
  },
  {
   "cell_type": "code",
   "execution_count": 2,
   "metadata": {},
   "outputs": [
    {
     "name": "stdout",
     "output_type": "stream",
     "text": [
      "[[0 1 0 0 0]\n",
      " [0 1 0 0 0]\n",
      " [0 1 0 0 0]\n",
      " [0 0 0 1 0]\n",
      " [0 0 0 1 0]]\n",
      "Fitness:  4\n",
      "\n",
      "\n",
      "Finished\n",
      "[[0 0 0 0 1]\n",
      " [0 0 1 0 0]\n",
      " [1 0 0 0 0]\n",
      " [0 0 0 1 0]\n",
      " [0 0 0 0 0]]\n",
      "Fitness:  10\n"
     ]
    }
   ],
   "source": [
    "class Hill_Climb:\n",
    "    \n",
    "    def __init__(self, n):\n",
    "        self.step = 0\n",
    "        self.map = n\n",
    "        self.q_pos = set()  \n",
    "    \n",
    "    def moveQueen(self):\n",
    "        temp = self.map.map[0]\n",
    "        self.map.map[0] = [0,0,0,0,0]\n",
    "        mfit = 0\n",
    "        mindx = 0\n",
    "        for i in range(5):\n",
    "            self.map.map[i] = [0,0,0,0,0]\n",
    "            mfit = 0\n",
    "            mindx = 0\n",
    "            for j in range(5):\n",
    "                self.map.map[i][j] = 1\n",
    "                self.map.fitness()\n",
    "                if(self.map.fit > mfit):\n",
    "                    mfit = self.map.fit\n",
    "                    mindx = j\n",
    "                self.map.map[i][j] = 0\n",
    "                if(mfit == 10):\n",
    "                    print(\"Finished\")\n",
    "                    self.map.fitness()\n",
    "                    self.map.show()\n",
    "                    return self\n",
    "            self.map.map[i][mindx] = 1\n",
    "        self.moveQueen()\n",
    "        \n",
    "if __name__ == '__main__':\n",
    "    home = Board(5)\n",
    "    home.set_queens()\n",
    "    home.fitness()\n",
    "    home.show()\n",
    "    print(\"\\n\")\n",
    "    climb = Hill_Climb(home)\n",
    "    climb.moveQueen()\n",
    "        \n",
    "    "
   ]
  },
  {
   "cell_type": "code",
   "execution_count": 5,
   "metadata": {},
   "outputs": [
    {
     "ename": "AttributeError",
     "evalue": "'Board' object has no attribute 'solve'",
     "output_type": "error",
     "traceback": [
      "\u001b[0;31m---------------------------------------------------------------------------\u001b[0m",
      "\u001b[0;31mAttributeError\u001b[0m                            Traceback (most recent call last)",
      "\u001b[0;32m<ipython-input-5-0d996c981c6e>\u001b[0m in \u001b[0;36m<module>\u001b[0;34m\u001b[0m\n\u001b[1;32m     11\u001b[0m \u001b[0;32mif\u001b[0m \u001b[0m__name__\u001b[0m \u001b[0;34m==\u001b[0m \u001b[0;34m'__main__'\u001b[0m\u001b[0;34m:\u001b[0m\u001b[0;34m\u001b[0m\u001b[0;34m\u001b[0m\u001b[0m\n\u001b[1;32m     12\u001b[0m     \u001b[0mhome\u001b[0m \u001b[0;34m=\u001b[0m \u001b[0mBoard\u001b[0m\u001b[0;34m(\u001b[0m\u001b[0;36m5\u001b[0m\u001b[0;34m)\u001b[0m\u001b[0;34m\u001b[0m\u001b[0;34m\u001b[0m\u001b[0m\n\u001b[0;32m---> 13\u001b[0;31m     \u001b[0mhome\u001b[0m\u001b[0;34m.\u001b[0m\u001b[0msolve\u001b[0m\u001b[0;34m(\u001b[0m\u001b[0;34m)\u001b[0m\u001b[0;34m\u001b[0m\u001b[0;34m\u001b[0m\u001b[0m\n\u001b[0m\u001b[1;32m     14\u001b[0m     \u001b[0mhome\u001b[0m\u001b[0;34m.\u001b[0m\u001b[0mshow\u001b[0m\u001b[0;34m(\u001b[0m\u001b[0;34m)\u001b[0m\u001b[0;34m\u001b[0m\u001b[0;34m\u001b[0m\u001b[0m\n",
      "\u001b[0;31mAttributeError\u001b[0m: 'Board' object has no attribute 'solve'"
     ]
    }
   ],
   "source": [
    "class Genetic:\n",
    "    def __init__(self, n):\n",
    "        self.step = 0\n",
    "\n",
    "        \n",
    "    def solve(self):\n",
    "        r = np.random.randint(0, 101) / 100\n",
    "        print(r)\n",
    "        \n",
    "\n",
    "if __name__ == '__main__':\n",
    "    home = Board(5)\n",
    "    home.solve()\n",
    "    home.show()"
   ]
  },
  {
   "cell_type": "code",
   "execution_count": null,
   "metadata": {},
   "outputs": [],
   "source": []
  }
 ],
 "metadata": {
  "kernelspec": {
   "display_name": "Python 3",
   "language": "python",
   "name": "python3"
  },
  "language_info": {
   "codemirror_mode": {
    "name": "ipython",
    "version": 3
   },
   "file_extension": ".py",
   "mimetype": "text/x-python",
   "name": "python",
   "nbconvert_exporter": "python",
   "pygments_lexer": "ipython3",
   "version": "3.7.6"
  }
 },
 "nbformat": 4,
 "nbformat_minor": 2
}
