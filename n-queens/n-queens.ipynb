{
 "cells": [
  {
   "cell_type": "code",
   "execution_count": 18,
   "metadata": {},
   "outputs": [
    {
     "name": "stdout",
     "output_type": "stream",
     "text": [
      "[[1 0 0 0 0]\n",
      " [0 1 0 0 0]\n",
      " [1 0 0 0 0]\n",
      " [0 1 0 0 0]\n",
      " [0 0 0 1 0]]\n",
      "Fitness:  5\n",
      "Queen Positions:  {0: 0, 1: 1, 2: 0, 3: 1, 4: 3}\n"
     ]
    }
   ],
   "source": [
    "import random\n",
    "import numpy as np\n",
    "\n",
    "\n",
    "class Board:\n",
    "    def __init__(self, n):\n",
    "        self.n_queen = n\n",
    "        self.map = [[0 for j in range(n)] for i in range(n)]\n",
    "        #I added it queen positions\n",
    "        self.q_pos = dict()\n",
    "        self.fit = 0\n",
    "\n",
    "    def set_queens(self):\n",
    "        for i in range(self.n_queen):\n",
    "            j = random.randint(0, self.n_queen - 1)\n",
    "            self.map[i][j] = 1\n",
    "            self.q_pos[i]=j\n",
    "\n",
    "    def fitness(self):\n",
    "        self.fit = self.n_queen * (self.n_queen - 1) // 2\n",
    "        for i in range(self.n_queen):\n",
    "            for j in range(self.n_queen):\n",
    "                if self.map[i][j] == 1:\n",
    "                    for k in range(1, self.n_queen - i):\n",
    "                        if self.map[i + k][j] == 1:\n",
    "                            self.fit -= 1\n",
    "                        if j - k >= 0 and self.map[i + k][j - k] == 1:\n",
    "                            self.fit -= 1\n",
    "                        if j + k < self.n_queen and self.map[i + k][j + k] == 1:\n",
    "                            self.fit -= 1\n",
    "\n",
    "    def show(self):\n",
    "        print(np.matrix(self.map))\n",
    "        print(\"Fitness: \",  self.fit)\n",
    "        print(\"Queen Positions: \", self.q_pos)\n",
    "\n",
    "        \n",
    "if __name__ == '__main__':\n",
    "    test = Board(5)\n",
    "    test.set_queens()\n",
    "    test.fitness()\n",
    "    test.show()"
   ]
  },
  {
   "cell_type": "code",
   "execution_count": 24,
   "metadata": {},
   "outputs": [
    {
     "name": "stdout",
     "output_type": "stream",
     "text": [
      "[[0 0 0 0 1]\n",
      " [0 1 0 0 0]\n",
      " [0 0 0 1 0]\n",
      " [0 1 0 0 0]\n",
      " [0 1 0 0 0]]\n",
      "Fitness:  0\n",
      "Queen Positions:  {0: 4, 1: 1, 2: 3, 3: 1, 4: 1}\n",
      "\n",
      "\n",
      "[[0 0 0 0 1]\n",
      " [0 1 0 0 0]\n",
      " [0 0 0 1 0]\n",
      " [0 1 0 0 0]\n",
      " [0 1 0 0 0]]\n",
      "0 4\n",
      "1 1\n",
      "2 3\n",
      "3 1\n",
      "4 1\n"
     ]
    }
   ],
   "source": [
    "class Hill_Climb:\n",
    "    \n",
    "    def __init__(self, n, q):\n",
    "        self.step = 0\n",
    "        self.map = n\n",
    "        self.q_pos = q\n",
    "       \n",
    "    def getQueenPos(self):\n",
    "        h = []\n",
    "        for items in self.q_pos.items():\n",
    "            pos = [items[1],items[2]]\n",
    "    \n",
    "    def checkHorizontal(self,pos):\n",
    "        return 0\n",
    "        \n",
    "        return 1\n",
    "        \n",
    "    def checkDiagonal(self,pos):\n",
    "        return 0\n",
    "        \n",
    "        return 1\n",
    "        \n",
    "    def checkVertical(self,pos):\n",
    "        return 0\n",
    "        \n",
    "        return 1\n",
    "    \n",
    "    def show(self):\n",
    "        print(np.matrix(self.map))\n",
    "\n",
    "if __name__ == '__main__':\n",
    "    home = Board(5)\n",
    "    home.set_queens()\n",
    "    home.show()\n",
    "    print(\"\\n\")\n",
    "    climb = Hill_Climb(home.map,home.q_pos)\n",
    "    climb.show()\n",
    "    climb.getQueenPos()\n",
    "        \n",
    "    "
   ]
  },
  {
   "cell_type": "code",
   "execution_count": 14,
   "metadata": {},
   "outputs": [
    {
     "name": "stdout",
     "output_type": "stream",
     "text": [
      "[[0 0 0 0 0]\n",
      " [0 0 0 0 0]\n",
      " [0 0 0 0 0]\n",
      " [0 0 0 0 0]\n",
      " [0 0 0 0 0]]\n",
      "Fitness:  0\n"
     ]
    }
   ],
   "source": [
    "class Genetic:\n",
    "    def __init__(self, n):\n",
    "        self.step = 0\n",
    "\n",
    "\n",
    "if __name__ == '__main__':\n",
    "    home = Board(5)\n",
    "    home.show()"
   ]
  },
  {
   "cell_type": "code",
   "execution_count": null,
   "metadata": {
    "collapsed": true
   },
   "outputs": [],
   "source": []
  },
  {
   "cell_type": "code",
   "execution_count": null,
   "metadata": {
    "collapsed": true
   },
   "outputs": [],
   "source": []
  }
 ],
 "metadata": {
  "kernelspec": {
   "display_name": "Python 3",
   "language": "python",
   "name": "python3"
  },
  "language_info": {
   "codemirror_mode": {
    "name": "ipython",
    "version": 3
   },
   "file_extension": ".py",
   "mimetype": "text/x-python",
   "name": "python",
   "nbconvert_exporter": "python",
   "pygments_lexer": "ipython3",
   "version": "3.6.1"
  }
 },
 "nbformat": 4,
 "nbformat_minor": 2
}
